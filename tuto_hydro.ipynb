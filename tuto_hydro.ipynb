{
 "cells": [
  {
   "cell_type": "code",
   "execution_count": 1,
   "metadata": {},
   "outputs": [],
   "source": [
    "%matplotlib widget\n",
    "%load_ext autoreload\n",
    "%autoreload 2\n",
    "import pandas as pd\n",
    "import numpy as np\n",
    "from module.apps import App\n",
    "import ipywidgets as widgets"
   ]
  },
  {
   "cell_type": "code",
   "execution_count": 2,
   "metadata": {},
   "outputs": [],
   "source": [
    "pluie_obs = pd.read_csv(\n",
    "    \"Selle_et_Morvillers/Pluv_Moy_9_Stat_Selle_1985_2003.prn\",\n",
    "    delim_whitespace=True,\n",
    "    parse_dates=True,\n",
    "    dayfirst=True,\n",
    "    index_col=0\n",
    ")\n",
    "\n",
    "etp_obs = pd.read_csv(\n",
    "    \"Selle_et_Morvillers/Etp_Moy_9_Stat_Selle_1985_2003.prn\",\n",
    "    delim_whitespace=True,\n",
    "    parse_dates=True,\n",
    "    dayfirst=True,\n",
    "    index_col=0\n",
    ")\n",
    "\n",
    "debit = pd.read_csv(\n",
    "    \"Selle_et_Morvillers/Debit_Selle_Plachy_1985_2003.prn\",\n",
    "    delim_whitespace=True,\n",
    "    parse_dates=True,\n",
    "    dayfirst=True,\n",
    "    index_col=0,\n",
    ")['Debit']\n",
    "debit = debit.replace(-2, np.nan)\n",
    "\n",
    "niveau = pd.read_csv(\n",
    "    \"Selle_et_Morvillers/Niv_Morvillers_00608X0028_1985_2003.prn\",\n",
    "    delim_whitespace=True,\n",
    "    parse_dates=True,\n",
    "    dayfirst=True,\n",
    "    index_col=0,\n",
    ")['Niveau']\n",
    "niveau = niveau.replace(9999., np.nan)"
   ]
  },
  {
   "cell_type": "code",
   "execution_count": 3,
   "metadata": {},
   "outputs": [
    {
     "data": {
      "application/vnd.jupyter.widget-view+json": {
       "model_id": "812eb82e82f8434ea8ffe06832f5e883",
       "version_major": 2,
       "version_minor": 0
      },
      "text/plain": [
       "HBox(children=(VBox(children=(Label(value='Paramètres', style=LabelStyle(background='lightblue', font_weight='…"
      ]
     },
     "execution_count": 3,
     "metadata": {},
     "output_type": "execute_result"
    }
   ],
   "source": [
    "app = App(debit, niveau)\n",
    "app.set_meteo(pluie_obs, etp_obs)\n",
    "column1 = widgets.VBox(\n",
    "    [\n",
    "        widgets.Label(\"Paramètres\", style=dict(font_weight=\"bold\", background='lightblue')),\n",
    "        app.widgetA,\n",
    "        app.widgetR,\n",
    "        app.widgetTHG,\n",
    "        app.widgetTG1,\n",
    "        app.widgetbaseNiv,\n",
    "        app.widgetcoeffEmmag,\n",
    "        widgets.Label(\"Critères\", style=dict(font_weight=\"bold\", background='lightblue')),\n",
    "        app.textNash,\n",
    "        app.textKGE,\n",
    "        app.textNashNiv\n",
    "    ],\n",
    "    layout=widgets.Layout(width='35%')\n",
    ")\n",
    "\n",
    "column2 = widgets.VBox(\n",
    "    [\n",
    "        app.btnOpti,\n",
    "        app.fig.canvas,\n",
    "    ]\n",
    ")\n",
    "\n",
    "widgets.HBox([column1, column2])"
   ]
  },
  {
   "cell_type": "markdown",
   "metadata": {},
   "source": [
    "On fait tourner les modèles avec le jeu de paramètres issu du calage."
   ]
  },
  {
   "cell_type": "code",
   "execution_count": 4,
   "metadata": {},
   "outputs": [
    {
     "data": {
      "application/vnd.jupyter.widget-view+json": {
       "model_id": "069bd9645e694d17adc3d2cc79a06d78",
       "version_major": 2,
       "version_minor": 0
      },
      "text/plain": [
       "VBox(children=(Label(value='Lancer les simulations :'), HBox(children=(Button(description='Lancer', icon='chec…"
      ]
     },
     "execution_count": 4,
     "metadata": {},
     "output_type": "execute_result"
    }
   ],
   "source": [
    "from module.utils import drias2020\n",
    "def run_simulations(b):\n",
    "    for gcm, rcm, period in drias2020:\n",
    "        pluie = 'sims_cc/{0}_{1}_{2}/Pluie_Selle_et_Morvillers_{0}_{1}_{2}'.format(\n",
    "            gcm,\n",
    "            rcm,\n",
    "            period\n",
    "        )\n",
    "        pluie = pd.read_csv(\n",
    "            pluie,\n",
    "            delim_whitespace=True,\n",
    "            parse_dates=True,\n",
    "            dayfirst=True,\n",
    "            index_col=0\n",
    "        )\n",
    "        etp = 'sims_cc/{0}_{1}_{2}/ETP_Selle_et_Morvillers_{0}_{1}_{2}'.format(\n",
    "            gcm,\n",
    "            rcm,\n",
    "            period\n",
    "        )\n",
    "        etp = pd.read_csv(\n",
    "            etp,\n",
    "            delim_whitespace=True,\n",
    "            parse_dates=True,\n",
    "            dayfirst=True,\n",
    "            index_col=0\n",
    "        )\n",
    "        app.set_meteo(pluie, etp)\n",
    "        app.run(-9999)\n",
    "        app.result.to_csv(\n",
    "            'results_cc/{0}_{1}_{2}.csv'.format(\n",
    "                gcm, rcm, period\n",
    "            ),\n",
    "        )\n",
    "        progress.value += 1\n",
    "    app.set_meteo(pluie_obs, etp_obs)\n",
    "label = widgets.Label(\"Lancer les simulations :\")\n",
    "btn = widgets.Button(\n",
    "    description='Lancer',\n",
    "    disabled=False,\n",
    "    icon='check'\n",
    ")\n",
    "btn.on_click(run_simulations)\n",
    "progress = widgets.IntProgress(\n",
    "    value=0,\n",
    "    min=0,\n",
    "    max=len(drias2020),\n",
    "    #description='Chargement : ',\n",
    "    bar_style='info', # 'success', 'info', 'warning', 'danger' or ''\n",
    "    #style={'bar_color': 'blue'},\n",
    "    orientation='horizontal'\n",
    ")\n",
    "widgets.VBox([label, widgets.HBox([btn, progress])])"
   ]
  },
  {
   "cell_type": "code",
   "execution_count": null,
   "metadata": {},
   "outputs": [],
   "source": []
  },
  {
   "cell_type": "code",
   "execution_count": null,
   "metadata": {},
   "outputs": [],
   "source": []
  }
 ],
 "metadata": {
  "interpreter": {
   "hash": "eba72ff441ebbdbe4ed42fce6ccf0fa3b3ba64c8337d2e7571e1a2c710b08151"
  },
  "kernelspec": {
   "display_name": "Python 3 (ipykernel)",
   "language": "python",
   "name": "python3"
  },
  "language_info": {
   "codemirror_mode": {
    "name": "ipython",
    "version": 3
   },
   "file_extension": ".py",
   "mimetype": "text/x-python",
   "name": "python",
   "nbconvert_exporter": "python",
   "pygments_lexer": "ipython3",
   "version": "3.9.4"
  }
 },
 "nbformat": 4,
 "nbformat_minor": 4
}
