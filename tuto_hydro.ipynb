{
 "cells": [
  {
   "cell_type": "markdown",
   "metadata": {},
   "source": [
    "## Exemple d'une étude d'impact changement climatique avec un modèle hydrologique global pluie-débit-niveau \n",
    "\n",
    "Cet exercice reprend l'exemple du modèle \"Selle et Morvillers\" disponible dans le tutoriel du logiciel Gardénia (https://gardenia.brgm.fr) et se propose d'exploiter les projections climatiques régionalisées DRIAS2020 afin de réaliser une étude d'impact changement climatique sur le bassin de la Selle.\n",
    "\n",
    "La démarche proposée se base sur un utilitaire en ligne créé pour les besoins de la présente formation. Son fonctionnement repose sur les principes de base de Gardénia. Il ne s'applique qu'au modèle \"Selle et Morvillers\" et ses résultats ne doivent pas être interprétés en-dehors du cadre de la formation. Cet utilitaire très simple n'a fait l'objet d'aucune validation plus poussée et n'offre pas l'étendu des possibilités de Gardénia. \n",
    "\n",
    "La rivière Selle est un affluent du fleuve de la Somme située au nord de la France. La superficie de son bassin versant est de 540 km². On dispose d'une chronique journalière de débit à la station hydrométrique \"Selle à Plachy\" de 1989 à 2003 et d'une chronique piézométrique mensuelle au piézomètre de Morvillers de septembre 1985 au 15 juillet 2003.\n",
    "\n",
    "| <img src=\"bassin_selle.png\" alt=\"Bassin de la Selle\" width=\"500\"/> |\n",
    "|---|\n",
    "| *Figure 1 : Bassin de la Selle. Le piézomètre de Morvillers et la station hydrométrique de la Selle à Plachy sont indiqués en rouge. La grille correspond à la grille de 8 km de résolution des données DRIAS 2020* |\n"
   ]
  },
  {
   "cell_type": "markdown",
   "metadata": {},
   "source": [
    "***\n",
    "# Calage du modèle\n",
    "L'objectif de cette première partie est de calibrer le modèle à partir des données pluviométriques et d'ETP disponibles sur la période 1985-2003. La calibration s'effectue en modifiant les paramètres de calage du modèle et en contrôlant les valeurs de KGE et de Nash du débit, et la valeur de Nash du piézomètre\n",
    "\n",
    "1. En faisant jouer les paramètres de calage, discuter du rôle que chaque paramètre exerce sur la simulation du débit et de la piézométrie.\n",
    "1. Calibrer le modèle manuellement en faisant jouer les paramètres du modèle de manière à maximiser les critères de qualité\n",
    "2. Noter les paramètres obtenus manuellement et calibrer de manière automatique le modèle en appuyant sur le bouton \"Optimiser\". Comparer les deux jeux de paramètres obtenus\n",
    "***"
   ]
  },
  {
   "cell_type": "code",
   "execution_count": 1,
   "metadata": {},
   "outputs": [],
   "source": [
    "%matplotlib widget\n",
    "#%load_ext autoreload\n",
    "#%autoreload 2\n",
    "import pandas as pd\n",
    "import numpy as np\n",
    "import os\n",
    "from module.apps import App, PlotSim, PlotSim2\n",
    "import ipywidgets as widgets\n",
    "import matplotlib.pyplot as plt\n",
    "from module.utils import drias2020"
   ]
  },
  {
   "cell_type": "code",
   "execution_count": 2,
   "metadata": {},
   "outputs": [],
   "source": [
    "pluie_obs = pd.read_csv(\n",
    "    \"Selle_et_Morvillers/Pluv_Moy_9_Stat_Selle_1985_2003.prn\",\n",
    "    delim_whitespace=True,\n",
    "    parse_dates=True,\n",
    "    dayfirst=True,\n",
    "    index_col=0\n",
    ")\n",
    "\n",
    "etp_obs = pd.read_csv(\n",
    "    \"Selle_et_Morvillers/Etp_Moy_9_Stat_Selle_1985_2003.prn\",\n",
    "    delim_whitespace=True,\n",
    "    parse_dates=True,\n",
    "    dayfirst=True,\n",
    "    index_col=0\n",
    ")\n",
    "\n",
    "debit = pd.read_csv(\n",
    "    \"Selle_et_Morvillers/Debit_Selle_Plachy_1985_2003.prn\",\n",
    "    delim_whitespace=True,\n",
    "    parse_dates=True,\n",
    "    dayfirst=True,\n",
    "    index_col=0,\n",
    ")['Debit']\n",
    "debit = debit.replace(-2, np.nan)\n",
    "\n",
    "niveau = pd.read_csv(\n",
    "    \"Selle_et_Morvillers/Niv_Morvillers_00608X0028_1985_2003.prn\",\n",
    "    delim_whitespace=True,\n",
    "    parse_dates=True,\n",
    "    dayfirst=True,\n",
    "    index_col=0,\n",
    ")['Niveau']\n",
    "niveau = niveau.replace(9999., np.nan)"
   ]
  },
  {
   "cell_type": "code",
   "execution_count": 3,
   "metadata": {},
   "outputs": [
    {
     "data": {
      "application/vnd.jupyter.widget-view+json": {
       "model_id": "32d46045e0f84ade8e692f18926c9c63",
       "version_major": 2,
       "version_minor": 0
      },
      "text/plain": [
       "HBox(children=(VBox(children=(Label(value='Paramètres', style=LabelStyle(background='lightblue', font_weight='…"
      ]
     },
     "execution_count": 3,
     "metadata": {},
     "output_type": "execute_result"
    }
   ],
   "source": [
    "app = App(debit, niveau)\n",
    "app.set_meteo(pluie_obs, etp_obs)\n",
    "column1 = widgets.VBox(\n",
    "    [\n",
    "        widgets.Label(\"Paramètres\", style=dict(font_weight=\"bold\", background='lightblue')),\n",
    "        app.widgetA,\n",
    "        app.widgetR,\n",
    "        app.widgetTHG,\n",
    "        app.widgetTG1,\n",
    "        app.widgetbaseNiv,\n",
    "        app.widgetcoeffEmmag,\n",
    "        widgets.Label(\"Critères\", style=dict(font_weight=\"bold\", background='lightblue')),\n",
    "        app.textNash,\n",
    "        app.textKGE,\n",
    "        app.textNashNiv\n",
    "    ],\n",
    "    layout=widgets.Layout(width='35%')\n",
    ")\n",
    "\n",
    "column2 = widgets.VBox(\n",
    "    [\n",
    "        app.btnOpti,\n",
    "        app.fig.canvas,\n",
    "    ]\n",
    ")\n",
    "\n",
    "widgets.HBox([column1, column2])"
   ]
  },
  {
   "cell_type": "markdown",
   "metadata": {},
   "source": [
    "***\n",
    "# Etude d'impact changement climatique\n",
    "\n",
    "L'objectif de cette partie est d'utiliser les projections climatiques régionalisées DRIAS2020 disponibles en ligne (http://www.drias-climat.fr/) afin de produire des projections hydrologiques de débits et de piézomètre avec notre modèle déjà calibré. \n",
    "\n",
    "## Réaliser les simulations\n",
    "\n",
    "Pour les besoins de cet exercice, les données DRIAS2020 ont déjà été téléchargées et pré-traitées pour être utilisés dans le modèle. Ces données correspondent aux chroniques journalières de pluies et d'ETPs des 12 couples GCM/RCM disponibles dans DRIAS2020 pour la période historique de 1950 (ou 1970 selon le modèle) à 2005 pour la période historique, et de 2005 à 2100 pour les scénarios RCPs. Le pré-traitement consiste à :\n",
    "- identifier les mailles de la grille DRIAS2020 correspondant au modèle \"Selle et Morvillers\". Ces mailles correspondent à la grille de 8 km de côté se superposant au bassin versant de la Selle sur la Figure 1.\n",
    "- à chaque pas de temps, réaliser une moyenne pondérée des valeurs de pluies et d'ETPs. La pondération tient compte de la surface relative de bassin versant à l'intérieur de chaque maille de la grille DRIAS2020.\n",
    "\n",
    "Au final, cela représente 30 simulations de notre modèle hydrologique à lancer pour produire des chroniques de 1950 à 2100 pour chaque RCP et chaque modèle climatique.\n",
    "\n",
    "Lancer les simulations en cliquant sur le bouton \"Lancer\" ci-dessous. Les simulations sont terminées quand la barre de progression est complétée."
   ]
  },
  {
   "cell_type": "code",
   "execution_count": 5,
   "metadata": {},
   "outputs": [
    {
     "data": {
      "application/vnd.jupyter.widget-view+json": {
       "model_id": "f50439334fa549a8b8bcf25798f5293f",
       "version_major": 2,
       "version_minor": 0
      },
      "text/plain": [
       "HBox(children=(Button(description='Lancer', icon='check', style=ButtonStyle()), IntProgress(value=0, bar_style…"
      ]
     },
     "execution_count": 5,
     "metadata": {},
     "output_type": "execute_result"
    }
   ],
   "source": [
    "def run_simulations(b):\n",
    "    btn.disabled = True\n",
    "    progress.value = 0\n",
    "    for gcm, rcm, period in drias2020:\n",
    "        pluie = 'sims_cc/{0}_{1}_{2}/Pluie_Selle_et_Morvillers_{0}_{1}_{2}'.format(\n",
    "            gcm,\n",
    "            rcm,\n",
    "            period\n",
    "        )\n",
    "        pluie = pd.read_csv(\n",
    "            pluie,\n",
    "            delim_whitespace=True,\n",
    "            parse_dates=True,\n",
    "            dayfirst=True,\n",
    "            index_col=0\n",
    "        )\n",
    "        etp = 'sims_cc/{0}_{1}_{2}/ETP_Selle_et_Morvillers_{0}_{1}_{2}'.format(\n",
    "            gcm,\n",
    "            rcm,\n",
    "            period\n",
    "        )\n",
    "        etp = pd.read_csv(\n",
    "            etp,\n",
    "            delim_whitespace=True,\n",
    "            parse_dates=True,\n",
    "            dayfirst=True,\n",
    "            index_col=0\n",
    "        )\n",
    "        app.set_meteo(pluie, etp)\n",
    "        app.run(-9999)\n",
    "        os.makedirs('results_cc', exist_ok=True)\n",
    "        app.result.to_csv(\n",
    "            'results_cc/{0}_{1}_{2}.csv'.format(\n",
    "                gcm, rcm, period\n",
    "            ),\n",
    "        )\n",
    "        progress.value += 1\n",
    "    app.set_meteo(pluie_obs, etp_obs)\n",
    "    btn.disabled = False\n",
    "btn = widgets.Button(\n",
    "    description='Lancer',\n",
    "    disabled=False,\n",
    "    icon='check'\n",
    ")\n",
    "btn.on_click(run_simulations)\n",
    "progress = widgets.IntProgress(\n",
    "    value=0,\n",
    "    min=0,\n",
    "    max=len(drias2020),\n",
    "    bar_style='info', # 'success', 'info', 'warning', 'danger' or ''\n",
    "    orientation='horizontal'\n",
    ")\n",
    "widgets.HBox([btn, progress])"
   ]
  },
  {
   "cell_type": "markdown",
   "metadata": {},
   "source": [
    "***\n",
    "## Analyse des résultats\n",
    "### Tracé des chroniques\n",
    "L'utilitaire ci-dessous permet de représenter les résultats sous forme de chroniques temporelles de débit et de piézomètre. Il se compose de plusieurs rubriques.\n",
    "- La rubrique Modèles permet de sélectionner les modèles climatiques à tracer (sélection multiple possible avec shift ou ctrl)\n",
    "- La rubrique RCPs permet de sélectionner les RCPs à tracer (sélection multiple possible avec shift ou ctrl)\n",
    "- La rubrique Variable permet de sélectionner Débit ou Niveau de nappe\n",
    "- L'indicateur propose un tracé en journalier, en minimum/moyenne/maximum mensuel ou annuel\n",
    "- La rubrique tracé propose un tracé :\n",
    "    - en \"Spaghetti\", c'est-à-dire tous les modèles représentés sur une même figure\n",
    "    - sous forme d'ensemble en Q5/Médiane/Q95, avec la médiane des modèles sélectionnés et une enveloppe représentant le quantile 5 et le quantile 95 de l'ensemble des modèles.\n",
    "    - sous forme d'ensemble en Minimum/Moyenne/Maximum.\n",
    "\n",
    "\n",
    "| <img src=\"donnes_modeles.png\" alt=\"\" width=600/> |\n",
    "|---|\n",
    "| *Figure 2 : Position des modèles à l'horizon fin de sicèle pour le RCP 8.5 en moyenne sur la France* |\n",
    "\n",
    "***"
   ]
  },
  {
   "cell_type": "code",
   "execution_count": 6,
   "metadata": {},
   "outputs": [
    {
     "data": {
      "application/vnd.jupyter.widget-view+json": {
       "model_id": "fa9e3bd98c7644c9b32b7b1445b2bc0a",
       "version_major": 2,
       "version_minor": 0
      },
      "text/plain": [
       "VBox(children=(HBox(children=(VBox(children=(SelectMultiple(description='Modèles :', options=('CNRM-CM5-LR / A…"
      ]
     },
     "execution_count": 6,
     "metadata": {},
     "output_type": "execute_result"
    }
   ],
   "source": [
    "plot = PlotSim()\n",
    "widgets.VBox([plot.main, plot.label, plot.out])"
   ]
  },
  {
   "cell_type": "markdown",
   "metadata": {},
   "source": [
    "### Complément"
   ]
  },
  {
   "cell_type": "code",
   "execution_count": 7,
   "metadata": {},
   "outputs": [
    {
     "data": {
      "application/vnd.jupyter.widget-view+json": {
       "model_id": "f750678f65694195a7fc07ce17b44dc3",
       "version_major": 2,
       "version_minor": 0
      },
      "text/plain": [
       "VBox(children=(HBox(children=(VBox(children=(SelectMultiple(description='Modèles :', options=('CNRM-CM5-LR / A…"
      ]
     },
     "execution_count": 7,
     "metadata": {},
     "output_type": "execute_result"
    }
   ],
   "source": [
    "plot2 = PlotSim2()\n",
    "widgets.VBox([plot2.main, plot2.label, plot2.out])"
   ]
  },
  {
   "cell_type": "code",
   "execution_count": null,
   "metadata": {},
   "outputs": [],
   "source": []
  },
  {
   "cell_type": "code",
   "execution_count": null,
   "metadata": {},
   "outputs": [],
   "source": []
  }
 ],
 "metadata": {
  "interpreter": {
   "hash": "eba72ff441ebbdbe4ed42fce6ccf0fa3b3ba64c8337d2e7571e1a2c710b08151"
  },
  "kernelspec": {
   "display_name": "Python 3 (ipykernel)",
   "language": "python",
   "name": "python3"
  },
  "language_info": {
   "codemirror_mode": {
    "name": "ipython",
    "version": 3
   },
   "file_extension": ".py",
   "mimetype": "text/x-python",
   "name": "python",
   "nbconvert_exporter": "python",
   "pygments_lexer": "ipython3",
   "version": "3.9.4"
  }
 },
 "nbformat": 4,
 "nbformat_minor": 4
}
