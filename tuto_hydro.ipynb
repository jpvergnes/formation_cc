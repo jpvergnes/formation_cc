{
 "cells": [
  {
   "cell_type": "code",
   "execution_count": 1,
   "metadata": {},
   "outputs": [],
   "source": [
    "%matplotlib widget\n",
    "%load_ext autoreload\n",
    "%autoreload 2\n",
    "import pandas as pd\n",
    "import numpy as np\n",
    "import os\n",
    "from module.apps import App, PlotSim, PlotSim2, PlotSim3\n",
    "import ipywidgets as widgets\n",
    "import matplotlib.pyplot as plt\n",
    "from module.utils import drias2020\n",
    "from matplotlib.dates import DateFormatter"
   ]
  },
  {
   "attachments": {},
   "cell_type": "markdown",
   "metadata": {},
   "source": [
    "## Example: Impact assessment of Climate Change on the Selle watershed using a rainfall/runoff lumped-parameters model\n",
    "\n",
    "This example corresponds to the \"Selle et Morvillers\" exercise as described in the Gardenia Tutorial manual (https://gardenia.brgm.fr). It aims at assessing the impacts of climate change on  the Selle watershed, using the DRIAS2020 regionalized climate projections (https://drias-climat.fr). These projections are produced by French climate modelling research institutes, based upon CMIP5 global climate models.\n",
    "\n",
    "*Disclaimer: this example uses a modelling tool developed for the sole purpose of this exercise. It is based upon the functioning of the Gardenia model (https://gardenia.brgm.fr). Results shall not be interpreted nor used beyond the scope of this example. This online tool is not endorsed by BRGM nor does it encompasses all the capabilities of the Gardenia model.*\n",
    "\n",
    "*Warning: This online tool uses the Binder executable environment (https://mybinder.org/). Binder automatically closes your session after 10 minutes of inactivity. If it appears that the tool does not work anymore, reload the webpage in a new tab in your web browser (https://mybinder.org/v2/gh/jpvergnes/formation_cc/master-english?urlpath=voila%2Frender%2Ftuto_hydro.ipynb). Note that if your browser uses an ad-blocker, some actions may be impeded. You may need to deactivate it for this exercise.*\n",
    "\n",
    "The Selle river is a tributary of the Somme river located in northern France (Figure 1). Its watershed area covers about 524 km². Daily time-series of rainfall and potential evapo-transpiration (PET) averaged on 9 weather stations are available for this watershed. This dataset is illustrated on Figure 2. In addition, a daily time-serie of the Selle river flow from 1989 to 2003 is available at the gauging station \"la Selle à Plachy\"; as well as a monthly groundwater-level time-serie at the Morvillers monitoring well, from September 1985 to July 2003.\n",
    "\n",
    "| <img src=\"bassin_selle.png\" alt=\"Bassin de la Selle\" width=\"500\"/> |\n",
    "|---|\n",
    "| *Figure 1 : Location of the Selle watershed. The Morvillers monitoring well and the gauging station at Plachy (\"la Selle à Plachy\") are highlighted in red. The grid (8km square resolution) corresponds to the resolution of the DRIAS2020 regionalized climated projections* |\n",
    "\n",
    "| <img src=\"pluie_etp.png\" alt=\"\"/> |\n",
    "|---|\n",
    "| *Figure 2 : Annual rainfall and PET* |\n"
   ]
  },
  {
   "attachments": {},
   "cell_type": "markdown",
   "metadata": {},
   "source": [
    "***\n",
    "# Model calibration\n",
    "\n",
    "The goal of this first session is to calibrate the model using the rainfall and PET data over the 1985-2003 period. The calibration (or history-matching) is achieved by modifying the various model parameters so as to match the observed flow and water-level data. Calibration performance is assessed visually, as well as by using statistical indicators, such as the Nash-Sutcliffe (Nash) and the Kling-Gupta-Efficicency (KGE) coefficients for the river flow, and the Nash coefficient for the water level.\n",
    "\n",
    "To run the model, modify the parameter values using the user interface below. The simulated flow and groundwater level should vary accordingly, as well as the calibration criteria (e.g. KGE, Nash).\n",
    "\n",
    "1. Carry out a sensitivity analysis on the calibration parameters (by modifying them in the interface) and discuss the impact of each parameter on the simulated flow and groundwater level.\n",
    "\n",
    "2. Calibrate the model manually by modifying the parameters so as to maximise the calibration criteria (KGE, Nash) and minimize the residual between the observed and simulated time-series.\n",
    "\n",
    "3. Write down the parameters you obtained through the manual calibration process. Now calibrate the model automatically by clicking the \"Optimize\" button. Compare the resulting parameters datasets.\n",
    "***"
   ]
  },
  {
   "cell_type": "code",
   "execution_count": 2,
   "metadata": {},
   "outputs": [],
   "source": [
    "pluie_obs = pd.read_csv(\n",
    "    \"Selle_et_Morvillers/Pluv_Moy_9_Stat_Selle_1985_2003.prn\",\n",
    "    delim_whitespace=True,\n",
    "    parse_dates=True,\n",
    "    dayfirst=True,\n",
    "    index_col=0\n",
    ")\n",
    "\n",
    "etp_obs = pd.read_csv(\n",
    "    \"Selle_et_Morvillers/Etp_Moy_9_Stat_Selle_1985_2003.prn\",\n",
    "    delim_whitespace=True,\n",
    "    parse_dates=True,\n",
    "    dayfirst=True,\n",
    "    index_col=0\n",
    ")\n",
    "\n",
    "debit = pd.read_csv(\n",
    "    \"Selle_et_Morvillers/Debit_Selle_Plachy_1985_2003.prn\",\n",
    "    delim_whitespace=True,\n",
    "    parse_dates=True,\n",
    "    dayfirst=True,\n",
    "    index_col=0,\n",
    ")['Debit']\n",
    "debit = debit.replace(-2, np.nan)\n",
    "\n",
    "niveau = pd.read_csv(\n",
    "    \"Selle_et_Morvillers/Niv_Morvillers_00608X0028_1985_2003.prn\",\n",
    "    delim_whitespace=True,\n",
    "    parse_dates=True,\n",
    "    dayfirst=True,\n",
    "    index_col=0,\n",
    ")['Niveau']\n",
    "niveau = niveau.replace(9999., np.nan)"
   ]
  },
  {
   "cell_type": "code",
   "execution_count": 3,
   "metadata": {},
   "outputs": [
    {
     "data": {
      "application/vnd.jupyter.widget-view+json": {
       "model_id": "a13cd4b283ad4a208561ee387d2a070d",
       "version_major": 2,
       "version_minor": 0
      },
      "text/plain": [
       "HBox(children=(VBox(children=(Label(value='Paramètres', style=LabelStyle(background='lightblue', font_weight='…"
      ]
     },
     "execution_count": 3,
     "metadata": {},
     "output_type": "execute_result"
    }
   ],
   "source": [
    "app = App(debit, niveau)\n",
    "app.set_meteo(pluie_obs, etp_obs)\n",
    "column1 = widgets.VBox(\n",
    "    [\n",
    "        widgets.Label(\"Parameters\", style=dict(font_weight=\"bold\", background='lightblue')),\n",
    "        app.widgetA,\n",
    "        app.widgetR,\n",
    "        app.widgetTHG,\n",
    "        app.widgetTG1,\n",
    "        app.widgetbaseNiv,\n",
    "        app.widgetcoeffEmmag,\n",
    "        widgets.Label(\"Criteria\", style=dict(font_weight=\"bold\", background='lightblue')),\n",
    "        app.textNash,\n",
    "        app.textKGE,\n",
    "        app.textNashNiv\n",
    "    ],\n",
    "    layout=widgets.Layout(width='23%')\n",
    ")\n",
    "\n",
    "column2 = widgets.VBox(\n",
    "    [\n",
    "        app.btnOpti,\n",
    "        app.fig.canvas,\n",
    "    ]\n",
    ")\n",
    "\n",
    "widgets.HBox([column1, column2])"
   ]
  },
  {
   "attachments": {},
   "cell_type": "markdown",
   "metadata": {},
   "source": [
    "***\n",
    "# Climate change impact assessment\n",
    "\n",
    "The goal of this following session is to use the the DRIAS2020 regionalized climate projections (https://drias-climat.fr) to forecast the Selle river flow at Plachy and the groundwater level at Morvillers using the calibrated model.\n",
    "\n",
    "## Forecasting\n",
    "\n",
    "For the purpose of this exercise, the DRIAS2020 dataset have already been downloaded and pre-processed in order ot be used directly with the model. This dataset corresponds to daily rainfall and PET time-series from 12 ensembles of global climate models (GCM) and regional climate models (RCM) over the historical period (from 1950 to 2005) and the future (from 2005 to 2100) for each representative concentration pathway (RCP) scenario (using the IPCC 5th report definition).\n",
    "For each GCM/RCM ensemble, the pre-processing included:\n",
    "-  Identifying the DRIAS2020 grid cells corresponding to the study area (e.g. the 8km square cells superimposing on the Selle watershed in Figure 1);\n",
    "- Calculating a spatial weighted average of the rainfall and PET at each time-step, in order to aggregate all the available time-series over the watershed. This weighted average is carried out according to the relative watershed area within the DRIAS2020  cell-size. Two aggregated rainfall and PET time-series are eventually obtained, that we will use in the model.\n",
    "- The above process is repeated for each GCM/RCM ensemble and RCPs so that 30 projections of rainfall/PET from 1950 to 2100 are available as inputs for the model.\n",
    "\n",
    "Run these simulations by clicking the \"Run\" button below. The calibrated model is now calculating the forecast river flow and groundwater-level using the 30 rainfall/PET projections. Model runs are completed when the progress bar is full. Let's move on to the next session to analyse the results."
   ]
  },
  {
   "cell_type": "code",
   "execution_count": 4,
   "metadata": {},
   "outputs": [
    {
     "data": {
      "application/vnd.jupyter.widget-view+json": {
       "model_id": "4a0da14ac10e4cd9bb57ea065d4ab0b1",
       "version_major": 2,
       "version_minor": 0
      },
      "text/plain": [
       "HBox(children=(Button(description='Lancer', icon='check', style=ButtonStyle()), IntProgress(value=0, bar_style…"
      ]
     },
     "execution_count": 4,
     "metadata": {},
     "output_type": "execute_result"
    }
   ],
   "source": [
    "def run_simulations(b):\n",
    "    btn.disabled = True\n",
    "    progress.value = 0\n",
    "    for gcm, rcm, period in drias2020:\n",
    "        pluie = 'sims_cc/{0}_{1}_{2}/Pluie_Selle_et_Morvillers_{0}_{1}_{2}'.format(\n",
    "            gcm,\n",
    "            rcm,\n",
    "            period\n",
    "        )\n",
    "        pluie = pd.read_csv(\n",
    "            pluie,\n",
    "            delim_whitespace=True,\n",
    "            parse_dates=True,\n",
    "            dayfirst=True,\n",
    "            index_col=0\n",
    "        )\n",
    "        etp = 'sims_cc/{0}_{1}_{2}/ETP_Selle_et_Morvillers_{0}_{1}_{2}'.format(\n",
    "            gcm,\n",
    "            rcm,\n",
    "            period\n",
    "        )\n",
    "        etp = pd.read_csv(\n",
    "            etp,\n",
    "            delim_whitespace=True,\n",
    "            parse_dates=True,\n",
    "            dayfirst=True,\n",
    "            index_col=0\n",
    "        )\n",
    "        app.set_meteo(pluie, etp)\n",
    "        app.run(-9999)\n",
    "        os.makedirs('results_cc', exist_ok=True)\n",
    "        app.result.to_csv(\n",
    "            'results_cc/{0}_{1}_{2}.csv'.format(\n",
    "                gcm, rcm, period\n",
    "            ),\n",
    "        )\n",
    "        progress.value += 1\n",
    "    app.set_meteo(pluie_obs, etp_obs)\n",
    "    btn.disabled = False\n",
    "    progress.value = 0\n",
    "btn = widgets.Button(\n",
    "    description='Run',\n",
    "    disabled=False,\n",
    "    icon='check'\n",
    ")\n",
    "btn.on_click(run_simulations)\n",
    "progress = widgets.IntProgress(\n",
    "    value=0,\n",
    "    min=0,\n",
    "    max=len(drias2020),\n",
    "    bar_style='info', # 'success', 'info', 'warning', 'danger' or ''\n",
    "    orientation='horizontal'\n",
    ")\n",
    "widgets.HBox([btn, progress])"
   ]
  },
  {
   "attachments": {},
   "cell_type": "markdown",
   "metadata": {},
   "source": [
    "***\n",
    "## Results\n",
    "### Time-series plots\n",
    "\n",
    "Simulated time-series of river flow and groundwater level can be displayed in the interface below, using several representations:\n",
    "\n",
    "- Select the GCM/RCM ensemble of your choice in the \"Models\" section. Multiple selection is possible with your mouse by maintaining the \"Ctrl\" key.\n",
    "- Select the RCP of your choice in the \"RCPs\" section. Multiple selection is possible with your mouse by maintaining the \"Ctrl\" key.\n",
    "- Select the model output of your choice in the \"Output\" section, i.e. either the Selle river flow at Plachy or the groundwater level at Morvillers\n",
    "- Select a variable to display in the \"Variable\" section, i.e. the daily output or the minimum/mean/maximum monthly or annual mean;\n",
    "- Select a representation mode in the \"Representation\" section, as follow:\n",
    "    - in the 'Spaghetti' mode, all model ensembles are plotted on the same plot;\n",
    "    - in the 'Q5/median/Q95' mode, an envelope of all the model ensembles is plotted, representing respectively the 5% quantile, the median and the 95% quantile based on all the selected models population; \n",
    "    - Similarly the 'Min/Mean/Max' plots the model ensembles envelope using the minimum, the mean and the maximum of all the models.\n",
    "- Check the \"Anomaly\" box to display the results in terms of anomaly relative to the annual mean over the 1976-2005 reference period.\n",
    "\n",
    "\n",
    "### Mann-Kendall statistical test for monotonic trend\n",
    "\n",
    "If the selected variable is annual (min, mean or max), a Mann-Kendall test is performed on the simulated time-serie, which results are displayed below the graph. \n",
    "For reference, this test is carried out using the Python package \"pymannkendall\" (https://pypi.org/project/pymannkendall/). The test indicates :\n",
    "- If a trend is detected (\"decreasing\", \"increasing\", \"no-trend\");\n",
    "- The significance of the test is calculated through the p-value (i.e. null-hypothesis testing). If the p-value is below the threshold value of 5% (0.05), the null-hypothesis test can be rejected and the trend is very likely. p-values higher than this threshold suggests that there is no trend.\n",
    "\n",
    "### A few questions\n",
    "\n",
    "| <img src=\"donnes_modeles.png\" alt=\"\" width=600/> | <img src=\"selection_drias2020.png\" alt=\"\" width=400/> |\n",
    "|---|---|\n",
    "| *Figure 3 : GCM/RCM ensembles spread toward 2100 for RCP8.5, mean over France* | *Figure 4 : Available GCM/RCM ensembles in the DRIAS2020 dataset* |\n",
    "\n",
    "The Figure 3 above highlights the behavior of the DRIAS2020 projections related to their increase in temperature (y-axis) and their change in precipitations, for the forecast period 2070-2100, averaged over France. The median of the models suggest an increase in the precipitations over France, as well as a 3.9°C increase in temperature for this period. Figure 4 indicates all the GCM/RCM/RCP ensembles available in DRIAS2020.\n",
    "\n",
    "1. On Figure 3, what is the most humid GCM/RCM ensemble? the driest?\n",
    "2. Select the driest GCM/RCM and one or several RCPs, and try out some of the possible representation modes. When selecting the annual variables, what are the trends suggested by the model?\n",
    "3. Repeat the same process with the most humid GCM/RCM combination. When selecting the annual variables, what are the trends suggested by the model?\n",
    "4. Select all the GCM/RCM ensembles and try out the representation modes 'Spaghetti', 'Q5/Median/Q95' and 'Min/Mean/Max'. For the latter two representations, what are the trends suggested by the model?\n",
    "5. How does the model uncertainty vary with time? Which RCP features the most uncertainty?\n",
    "6. In light of Figure 2, if you had to choose 5 representative GCM/RCM ensembles out of the 12 available, which ones would you select? Assess the simulated trends for this selection and compare them to those estimated in the previous questions.\n",
    "\n",
    "***"
   ]
  },
  {
   "cell_type": "code",
   "execution_count": 5,
   "metadata": {},
   "outputs": [
    {
     "data": {
      "application/vnd.jupyter.widget-view+json": {
       "model_id": "b33c43e03d7a45bc83fb2c75fcf5d3b5",
       "version_major": 2,
       "version_minor": 0
      },
      "text/plain": [
       "VBox(children=(HBox(children=(VBox(children=(SelectMultiple(description='Modèles :', options=('CNRM-CM5-LR / A…"
      ]
     },
     "execution_count": 5,
     "metadata": {},
     "output_type": "execute_result"
    }
   ],
   "source": [
    "plot = PlotSim()\n",
    "widgets.VBox([plot.main, plot.label, plot.out])"
   ]
  },
  {
   "attachments": {},
   "cell_type": "markdown",
   "metadata": {},
   "source": [
    "***\n",
    "### Seasonal variability analysis\n",
    "\n",
    "For this session, we reiterate the previous analysis by assessing the daily or monthly seasonal behavior of the projections over the historical reference period (1976-2005) and three future periods 2021-2050, 2041-2070 and 2071-2100. Anomalies are calculated relative to the corresponding seasonal cycle over the historical reference period. In addition, interannual mean values are indicated below the graph.\n",
    "\n",
    "Try out the different representation modes. Answer the above questions using a given RCP, a given period of analysis, etc.\n",
    "\n",
    "***"
   ]
  },
  {
   "cell_type": "code",
   "execution_count": 6,
   "metadata": {},
   "outputs": [
    {
     "data": {
      "application/vnd.jupyter.widget-view+json": {
       "model_id": "1a9b067c68084dbea4253db1267f55e5",
       "version_major": 2,
       "version_minor": 0
      },
      "text/plain": [
       "VBox(children=(HBox(children=(VBox(children=(SelectMultiple(description='Modèles :', options=('CNRM-CM5-LR / A…"
      ]
     },
     "execution_count": 6,
     "metadata": {},
     "output_type": "execute_result"
    }
   ],
   "source": [
    "plot2 = PlotSim2()\n",
    "widgets.VBox([plot2.main, plot2.label, plot2.out])"
   ]
  },
  {
   "attachments": {},
   "cell_type": "markdown",
   "metadata": {},
   "source": [
    "***\n",
    "## Appendix: changes in rainfall and PET\n",
    "***"
   ]
  },
  {
   "cell_type": "code",
   "execution_count": 7,
   "metadata": {},
   "outputs": [
    {
     "data": {
      "application/vnd.jupyter.widget-view+json": {
       "model_id": "25c76789c3a1493dba12cee1256dd5e9",
       "version_major": 2,
       "version_minor": 0
      },
      "text/plain": [
       "VBox(children=(HBox(children=(VBox(children=(SelectMultiple(description='Modèles :', options=('CNRM-CM5-LR / A…"
      ]
     },
     "execution_count": 7,
     "metadata": {},
     "output_type": "execute_result"
    }
   ],
   "source": [
    "plot3 = PlotSim3()\n",
    "widgets.VBox([plot3.main, plot3.label, plot3.out])"
   ]
  },
  {
   "cell_type": "code",
   "execution_count": null,
   "metadata": {},
   "outputs": [],
   "source": []
  }
 ],
 "metadata": {
  "kernelspec": {
   "display_name": "Python 3",
   "language": "python",
   "name": "python3"
  },
  "language_info": {
   "codemirror_mode": {
    "name": "ipython",
    "version": 3
   },
   "file_extension": ".py",
   "mimetype": "text/x-python",
   "name": "python",
   "nbconvert_exporter": "python",
   "pygments_lexer": "ipython3",
   "version": "3.11.0 (main, Oct 24 2022, 18:26:48) [MSC v.1933 64 bit (AMD64)]"
  },
  "vscode": {
   "interpreter": {
    "hash": "5238573367df39f7286bb46f9ff5f08f63a01a80960060ce41e3c79b190280fa"
   }
  }
 },
 "nbformat": 4,
 "nbformat_minor": 4
}
