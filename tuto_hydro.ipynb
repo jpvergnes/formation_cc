{
 "cells": [
  {
   "cell_type": "code",
   "execution_count": 48,
   "metadata": {},
   "outputs": [
    {
     "name": "stdout",
     "output_type": "stream",
     "text": [
      "The autoreload extension is already loaded. To reload it, use:\n",
      "  %reload_ext autoreload\n"
     ]
    }
   ],
   "source": [
    "%matplotlib widget\n",
    "%load_ext autoreload\n",
    "%autoreload 2\n",
    "import pandas as pd\n",
    "import numpy as np\n",
    "import os\n",
    "from module.apps import App\n",
    "import ipywidgets as widgets\n",
    "import matplotlib.pyplot as plt"
   ]
  },
  {
   "cell_type": "code",
   "execution_count": 49,
   "metadata": {},
   "outputs": [],
   "source": [
    "pluie_obs = pd.read_csv(\n",
    "    \"Selle_et_Morvillers/Pluv_Moy_9_Stat_Selle_1985_2003.prn\",\n",
    "    delim_whitespace=True,\n",
    "    parse_dates=True,\n",
    "    dayfirst=True,\n",
    "    index_col=0\n",
    ")\n",
    "\n",
    "etp_obs = pd.read_csv(\n",
    "    \"Selle_et_Morvillers/Etp_Moy_9_Stat_Selle_1985_2003.prn\",\n",
    "    delim_whitespace=True,\n",
    "    parse_dates=True,\n",
    "    dayfirst=True,\n",
    "    index_col=0\n",
    ")\n",
    "\n",
    "debit = pd.read_csv(\n",
    "    \"Selle_et_Morvillers/Debit_Selle_Plachy_1985_2003.prn\",\n",
    "    delim_whitespace=True,\n",
    "    parse_dates=True,\n",
    "    dayfirst=True,\n",
    "    index_col=0,\n",
    ")['Debit']\n",
    "debit = debit.replace(-2, np.nan)\n",
    "\n",
    "niveau = pd.read_csv(\n",
    "    \"Selle_et_Morvillers/Niv_Morvillers_00608X0028_1985_2003.prn\",\n",
    "    delim_whitespace=True,\n",
    "    parse_dates=True,\n",
    "    dayfirst=True,\n",
    "    index_col=0,\n",
    ")['Niveau']\n",
    "niveau = niveau.replace(9999., np.nan)"
   ]
  },
  {
   "cell_type": "code",
   "execution_count": 8,
   "metadata": {},
   "outputs": [
    {
     "data": {
      "application/vnd.jupyter.widget-view+json": {
       "model_id": "8d646b31bad84c6eb89fae6e5b55008c",
       "version_major": 2,
       "version_minor": 0
      },
      "text/plain": [
       "HBox(children=(VBox(children=(Label(value='Paramètres', style=LabelStyle(background='lightblue', font_weight='…"
      ]
     },
     "execution_count": 8,
     "metadata": {},
     "output_type": "execute_result"
    }
   ],
   "source": [
    "app = App(debit, niveau)\n",
    "app.set_meteo(pluie_obs, etp_obs)\n",
    "column1 = widgets.VBox(\n",
    "    [\n",
    "        widgets.Label(\"Paramètres\", style=dict(font_weight=\"bold\", background='lightblue')),\n",
    "        app.widgetA,\n",
    "        app.widgetR,\n",
    "        app.widgetTHG,\n",
    "        app.widgetTG1,\n",
    "        app.widgetbaseNiv,\n",
    "        app.widgetcoeffEmmag,\n",
    "        widgets.Label(\"Critères\", style=dict(font_weight=\"bold\", background='lightblue')),\n",
    "        app.textNash,\n",
    "        app.textKGE,\n",
    "        app.textNashNiv\n",
    "    ],\n",
    "    layout=widgets.Layout(width='35%')\n",
    ")\n",
    "\n",
    "column2 = widgets.VBox(\n",
    "    [\n",
    "        app.btnOpti,\n",
    "        app.fig.canvas,\n",
    "    ]\n",
    ")\n",
    "\n",
    "widgets.HBox([column1, column2])"
   ]
  },
  {
   "cell_type": "markdown",
   "metadata": {},
   "source": [
    "On fait tourner les modèles avec le jeu de paramètres issu du calage."
   ]
  },
  {
   "cell_type": "code",
   "execution_count": 14,
   "metadata": {},
   "outputs": [
    {
     "data": {
      "application/vnd.jupyter.widget-view+json": {
       "model_id": "86cfc98af83a48d8af9e6404d72bf754",
       "version_major": 2,
       "version_minor": 0
      },
      "text/plain": [
       "VBox(children=(Label(value='Lancer les simulations :'), HBox(children=(Button(description='Lancer', icon='chec…"
      ]
     },
     "execution_count": 14,
     "metadata": {},
     "output_type": "execute_result"
    }
   ],
   "source": [
    "from module.utils import drias2020\n",
    "def run_simulations(b):\n",
    "    btn.disabled = True\n",
    "    progress.value = 0\n",
    "    for gcm, rcm, period in drias2020:\n",
    "        pluie = 'sims_cc/{0}_{1}_{2}/Pluie_Selle_et_Morvillers_{0}_{1}_{2}'.format(\n",
    "            gcm,\n",
    "            rcm,\n",
    "            period\n",
    "        )\n",
    "        pluie = pd.read_csv(\n",
    "            pluie,\n",
    "            delim_whitespace=True,\n",
    "            parse_dates=True,\n",
    "            dayfirst=True,\n",
    "            index_col=0\n",
    "        )\n",
    "        etp = 'sims_cc/{0}_{1}_{2}/ETP_Selle_et_Morvillers_{0}_{1}_{2}'.format(\n",
    "            gcm,\n",
    "            rcm,\n",
    "            period\n",
    "        )\n",
    "        etp = pd.read_csv(\n",
    "            etp,\n",
    "            delim_whitespace=True,\n",
    "            parse_dates=True,\n",
    "            dayfirst=True,\n",
    "            index_col=0\n",
    "        )\n",
    "        app.set_meteo(pluie, etp)\n",
    "        app.run(-9999)\n",
    "        os.makedirs('results_cc', exist_ok=True)\n",
    "        app.result.to_csv(\n",
    "            'results_cc/{0}_{1}_{2}.csv'.format(\n",
    "                gcm, rcm, period\n",
    "            ),\n",
    "        )\n",
    "        progress.value += 1\n",
    "    app.set_meteo(pluie_obs, etp_obs)\n",
    "    btn.disabled = False\n",
    "label = widgets.Label(\"Lancer les simulations :\")\n",
    "btn = widgets.Button(\n",
    "    description='Lancer',\n",
    "    disabled=False,\n",
    "    icon='check'\n",
    ")\n",
    "btn.on_click(run_simulations)\n",
    "progress = widgets.IntProgress(\n",
    "    value=0,\n",
    "    min=0,\n",
    "    max=len(drias2020),\n",
    "    #description='Chargement : ',\n",
    "    bar_style='info', # 'success', 'info', 'warning', 'danger' or ''\n",
    "    #style={'bar_color': 'blue'},\n",
    "    orientation='horizontal'\n",
    ")\n",
    "widgets.VBox([label, widgets.HBox([btn, progress])])"
   ]
  },
  {
   "cell_type": "code",
   "execution_count": 85,
   "metadata": {},
   "outputs": [
    {
     "data": {
      "application/vnd.jupyter.widget-view+json": {
       "model_id": "374e43e5cb9649988d0188153bcf4952",
       "version_major": 2,
       "version_minor": 0
      },
      "text/plain": [
       "HBox(children=(VBox(children=(SelectMultiple(description='Modèles :', options=('CNRM-CM5-LR / ALADIN63', 'CNRM…"
      ]
     },
     "execution_count": 85,
     "metadata": {},
     "output_type": "execute_result"
    }
   ],
   "source": [
    "def main_sim(b):\n",
    "    select = check_sim()\n",
    "    df = {}\n",
    "    for sel, f in select.items():\n",
    "        df[tuple(sel.split('_'))] = pd.read_csv(f, parse_dates=True, index_col=0)\n",
    "    df = pd.concat(df, axis=1, names=['Modèle', 'RCP', 'Variable'])\n",
    "    df = df.xs(key=selectVariable.value, level='Variable', axis=1)\n",
    "    df = transform_indic(df)\n",
    "    plot_sim(df)\n",
    "\n",
    "def transform_indic(df):\n",
    "    indic = selectIndic.value\n",
    "    if indic == 'Moyenne mensuelle':\n",
    "        df = df.resample('M').mean()\n",
    "    elif indic == 'Minimum mensuel':\n",
    "        df = df.resample('M').min()\n",
    "    elif indic == 'Maximum mensuel':\n",
    "        df = df.resample('M').max()\n",
    "    elif indic == 'Moyenne annuelle':\n",
    "        df = df.resample('M').mean()\n",
    "    elif indic == 'Minimum annuel':\n",
    "        df = df.resample('Y').min()\n",
    "    elif indic == 'Maximum annuel':\n",
    "        df = df.resample('Y').max()\n",
    "    return df\n",
    "\n",
    "def plot_sim(df):\n",
    "    ax.clear()\n",
    "    df.plot(ax=ax, legend=False, grid=True)\n",
    "    legend = ax.legend(loc=\"upper left\", bbox_to_anchor=(1.02, 0, 0.07, 1), prop={'size':6})\n",
    "    fig.tight_layout()\n",
    "\n",
    "def check_sim():\n",
    "    models = selectModels.value\n",
    "    rcps = selectRcps.value\n",
    "    select = {}\n",
    "    for model in models:\n",
    "        gcm, rcm = model.split(' / ')\n",
    "        for rcp in rcps:\n",
    "            f = 'results_cc/{0}_{1}_{2}.csv'.format(gcm, rcm, rcp)\n",
    "            if os.path.exists(f):\n",
    "                select['{0} / {1}_{2}'.format(gcm, rcm, rcp)] = f\n",
    "    return select\n",
    "\n",
    "\n",
    "\n",
    "models = ['{0} / {1}'.format(model[0], model[1]) for model in drias2020]\n",
    "models = list(set(models))\n",
    "models.sort()\n",
    "selectModels = widgets.SelectMultiple(\n",
    "    options=models,\n",
    "    description='Modèles :',\n",
    "    disabled=False\n",
    ")\n",
    "selectRcps = widgets.SelectMultiple(\n",
    "    options=['rcp2.6', 'rcp4.5', 'rcp8.5'],\n",
    "\n",
    "    description='RCPs :',\n",
    "    disabled=False\n",
    ")\n",
    "selectVariable = widgets.Dropdown(\n",
    "    options=['Débit', 'Niveau'],\n",
    "    description='Variable :',\n",
    "    disabled=False\n",
    ")\n",
    "selectIndic = widgets.Dropdown(\n",
    "    options=[\n",
    "        'Journalier',\n",
    "        'Moyenne mensuelle',\n",
    "        'Minimum mensuel',\n",
    "        'Maximum mensuel',\n",
    "        'Moyenne annuelle',\n",
    "        'Minimum annuel',\n",
    "        'Maximum annuel'\n",
    "    ],\n",
    "    description='Indicateur :',\n",
    "    disabled=False\n",
    ")\n",
    "selectPlot = widgets.Dropdown(\n",
    "    options=['Spaghetti', 'Q5/Mediane/Q95', 'Min/Moy/Max'],\n",
    "    description='Tracé :',\n",
    "    disabled=False\n",
    ")\n",
    "\n",
    "checkAnom = widgets.Dropdown(\n",
    "    options = ['Non', '2021-2050', '2041-2070', '2071-2100'],\n",
    "    description = 'Anomalie',\n",
    ")\n",
    "btn = widgets.Button(\n",
    "    description='Tracer',\n",
    "    disabled=False,\n",
    "    icon='check'\n",
    ")\n",
    "btn.on_click(main_sim)\n",
    "col_para = widgets.VBox([selectModels, selectRcps, selectVariable, selectIndic, selectPlot, checkAnom, btn])\n",
    "plt.ioff()\n",
    "fig, ax = plt.subplots(1)\n",
    "fig.canvas.header_visible = False\n",
    "plt.ion()\n",
    "widgets.HBox([col_para, fig.canvas])\n"
   ]
  },
  {
   "cell_type": "code",
   "execution_count": null,
   "metadata": {},
   "outputs": [],
   "source": []
  }
 ],
 "metadata": {
  "interpreter": {
   "hash": "eba72ff441ebbdbe4ed42fce6ccf0fa3b3ba64c8337d2e7571e1a2c710b08151"
  },
  "kernelspec": {
   "display_name": "Python 3 (ipykernel)",
   "language": "python",
   "name": "python3"
  },
  "language_info": {
   "codemirror_mode": {
    "name": "ipython",
    "version": 3
   },
   "file_extension": ".py",
   "mimetype": "text/x-python",
   "name": "python",
   "nbconvert_exporter": "python",
   "pygments_lexer": "ipython3",
   "version": "3.9.4"
  }
 },
 "nbformat": 4,
 "nbformat_minor": 4
}
