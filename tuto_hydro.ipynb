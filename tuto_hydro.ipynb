{
 "cells": [
  {
   "cell_type": "code",
   "execution_count": 24,
   "metadata": {},
   "outputs": [
    {
     "name": "stdout",
     "output_type": "stream",
     "text": [
      "The autoreload extension is already loaded. To reload it, use:\n",
      "  %reload_ext autoreload\n"
     ]
    }
   ],
   "source": [
    "%matplotlib widget\n",
    "%load_ext autoreload\n",
    "%autoreload 2\n",
    "import pandas as pd\n",
    "import numpy as np\n",
    "from module.apps import App\n",
    "import ipywidgets as widgets"
   ]
  },
  {
   "cell_type": "code",
   "execution_count": 25,
   "metadata": {},
   "outputs": [],
   "source": [
    "pluie = pd.read_csv(\n",
    "    \"Selle_et_Morvillers/Pluv_Moy_9_Stat_Selle_1985_2003.prn\",\n",
    "    delim_whitespace=True,\n",
    "    parse_dates=True,\n",
    "    dayfirst=True,\n",
    "    index_col=0\n",
    ")\n",
    "\n",
    "etp = pd.read_csv(\n",
    "    \"Selle_et_Morvillers/Etp_Moy_9_Stat_Selle_1985_2003.prn\",\n",
    "    delim_whitespace=True,\n",
    "    parse_dates=True,\n",
    "    dayfirst=True,\n",
    "    index_col=0\n",
    ")\n",
    "\n",
    "debit = pd.read_csv(\n",
    "    \"Selle_et_Morvillers/Debit_Selle_Plachy_1985_2003.prn\",\n",
    "    delim_whitespace=True,\n",
    "    parse_dates=True,\n",
    "    dayfirst=True,\n",
    "    index_col=0,\n",
    ")['Debit']\n",
    "debit = debit.replace(-2, np.nan)\n",
    "\n",
    "niveau = pd.read_csv(\n",
    "    \"Selle_et_Morvillers/Niv_Morvillers_00608X0028_1985_2003.prn\",\n",
    "    delim_whitespace=True,\n",
    "    parse_dates=True,\n",
    "    dayfirst=True,\n",
    "    index_col=0,\n",
    ")['Niveau']\n",
    "niveau = niveau.replace(9999., np.nan)"
   ]
  },
  {
   "cell_type": "code",
   "execution_count": 28,
   "metadata": {},
   "outputs": [
    {
     "data": {
      "application/vnd.jupyter.widget-view+json": {
       "model_id": "96b3c8f6807c4851a7cad6c95c83c9f0",
       "version_major": 2,
       "version_minor": 0
      },
      "text/plain": [
       "HBox(children=(VBox(children=(Label(value='Paramètres', style=LabelStyle(background='lightblue', font_weight='…"
      ]
     },
     "execution_count": 28,
     "metadata": {},
     "output_type": "execute_result"
    }
   ],
   "source": [
    "app = App(pluie, etp, debit, niveau)\n",
    "column1 = widgets.VBox(\n",
    "    [\n",
    "        widgets.Label(\"Paramètres\", style=dict(font_weight=\"bold\", background='lightblue')),\n",
    "        app.widgetA,\n",
    "        app.widgetR,\n",
    "        app.widgetTHG,\n",
    "        app.widgetTG1,\n",
    "        app.widgetbaseNiv,\n",
    "        app.widgetcoeffEmmag,\n",
    "        widgets.Label(\"Critères\", style=dict(font_weight=\"bold\", background='lightblue')),\n",
    "        app.textNash,\n",
    "        app.textKGE,\n",
    "        app.textNashNiv\n",
    "    ],\n",
    "    layout=widgets.Layout(width='35%')\n",
    ")\n",
    "\n",
    "column2 = widgets.VBox(\n",
    "    [\n",
    "        app.btnOpti,\n",
    "        app.fig.canvas,\n",
    "    ]\n",
    ")\n",
    "\n",
    "widgets.HBox([column1, column2])\n"
   ]
  },
  {
   "cell_type": "code",
   "execution_count": 6,
   "metadata": {},
   "outputs": [],
   "source": []
  },
  {
   "cell_type": "code",
   "execution_count": null,
   "metadata": {},
   "outputs": [],
   "source": []
  }
 ],
 "metadata": {
  "interpreter": {
   "hash": "eba72ff441ebbdbe4ed42fce6ccf0fa3b3ba64c8337d2e7571e1a2c710b08151"
  },
  "kernelspec": {
   "display_name": "Python 3 (ipykernel)",
   "language": "python",
   "name": "python3"
  },
  "language_info": {
   "codemirror_mode": {
    "name": "ipython",
    "version": 3
   },
   "file_extension": ".py",
   "mimetype": "text/x-python",
   "name": "python",
   "nbconvert_exporter": "python",
   "pygments_lexer": "ipython3",
   "version": "3.9.4"
  }
 },
 "nbformat": 4,
 "nbformat_minor": 4
}
